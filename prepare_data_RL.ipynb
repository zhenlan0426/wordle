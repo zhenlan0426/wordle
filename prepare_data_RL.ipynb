{
 "cells": [
  {
   "cell_type": "markdown",
   "id": "3991de65",
   "metadata": {},
   "source": [
    "possible words embed int"
   ]
  },
  {
   "cell_type": "code",
   "execution_count": 1,
   "id": "aae67e93",
   "metadata": {},
   "outputs": [],
   "source": [
    "import string\n",
    "import numpy as np"
   ]
  },
  {
   "cell_type": "code",
   "execution_count": 2,
   "id": "68b76c7d",
   "metadata": {},
   "outputs": [],
   "source": [
    "possible_words = []\n",
    "with open('possible_words.txt') as fp:\n",
    "    possible_words.extend([word.strip() for word in fp.readlines()])"
   ]
  },
  {
   "cell_type": "code",
   "execution_count": 3,
   "id": "8532bdad",
   "metadata": {},
   "outputs": [],
   "source": [
    "mapping = {c:i for i,c in enumerate(string.ascii_lowercase[:26])}"
   ]
  },
  {
   "cell_type": "code",
   "execution_count": 4,
   "id": "bda33407",
   "metadata": {},
   "outputs": [],
   "source": [
    "out = []\n",
    "for w in possible_words:\n",
    "    tmp = []\n",
    "    for c in w:\n",
    "        tmp.append(mapping[c])\n",
    "    out.append(tmp)"
   ]
  },
  {
   "cell_type": "code",
   "execution_count": 5,
   "id": "935b8a0e",
   "metadata": {},
   "outputs": [],
   "source": [
    "out = np.array(out)"
   ]
  },
  {
   "cell_type": "code",
   "execution_count": 9,
   "id": "d5d7f505",
   "metadata": {},
   "outputs": [],
   "source": [
    "# torch.save(out, 'possible_words_embed.pt')\n",
    "\n",
    "# embed = torch.nn.Embedding(26, 8)\n",
    "# e = embed(out)\n",
    "\n",
    "# out = torch.load('possible_words_embed.pt')"
   ]
  },
  {
   "cell_type": "code",
   "execution_count": 6,
   "id": "07754273",
   "metadata": {},
   "outputs": [],
   "source": [
    "np.save('possible_words_embed.npy',out)"
   ]
  },
  {
   "cell_type": "code",
   "execution_count": null,
   "id": "971aa4a8",
   "metadata": {},
   "outputs": [],
   "source": []
  },
  {
   "cell_type": "code",
   "execution_count": null,
   "id": "2f7fb091",
   "metadata": {},
   "outputs": [],
   "source": []
  },
  {
   "cell_type": "markdown",
   "id": "2857fbbd",
   "metadata": {},
   "source": [
    "study mapping"
   ]
  },
  {
   "cell_type": "code",
   "execution_count": 1,
   "id": "d6e3a208",
   "metadata": {},
   "outputs": [],
   "source": [
    "import pandas as pd\n",
    "import numpy as np\n",
    "from sklearn.linear_model import SGDRegressor\n",
    "%matplotlib inline\n",
    "pd.set_option('display.max_rows', 200)"
   ]
  },
  {
   "cell_type": "code",
   "execution_count": 2,
   "id": "38ccbf07",
   "metadata": {},
   "outputs": [],
   "source": [
    "import pickle\n",
    "with open('mapping.pkl', 'rb') as f:\n",
    "    mapping = pickle.load(f)"
   ]
  },
  {
   "cell_type": "code",
   "execution_count": 7,
   "id": "55f0b8bf",
   "metadata": {},
   "outputs": [
    {
     "data": {
      "text/plain": [
       "True"
      ]
     },
     "execution_count": 7,
     "metadata": {},
     "output_type": "execute_result"
    }
   ],
   "source": [
    "# check key in mapping is sorted, i.e. a set rather than a tuple\n",
    "# out = []\n",
    "# for t,_ in mapping.items():\n",
    "#     out.append(all([a>b for a,b in zip(t[1:],t[:-1])]))\n",
    "# all(out) -> True"
   ]
  },
  {
   "cell_type": "code",
   "execution_count": 3,
   "id": "fd8f9ed1",
   "metadata": {},
   "outputs": [],
   "source": [
    "val = pd.DataFrame([[len(k),v] for k,v in mapping.items()])"
   ]
  },
  {
   "cell_type": "code",
   "execution_count": 4,
   "id": "abb4a84b",
   "metadata": {},
   "outputs": [],
   "source": [
    "val.columns = ['length','val']"
   ]
  },
  {
   "cell_type": "code",
   "execution_count": 11,
   "id": "593420d8",
   "metadata": {},
   "outputs": [],
   "source": [
    "means = val.groupby(['length']).val.mean()"
   ]
  },
  {
   "cell_type": "code",
   "execution_count": 12,
   "id": "064920f5",
   "metadata": {},
   "outputs": [
    {
     "data": {
      "text/plain": [
       "<AxesSubplot:xlabel='length'>"
      ]
     },
     "execution_count": 12,
     "metadata": {},
     "output_type": "execute_result"
    },
    {
     "data": {
      "image/png": "[encoded data removed]",
      "text/plain": [
       "<Figure size 432x288 with 1 Axes>"
      ]
     },
     "metadata": {
      "needs_background": "light"
     },
     "output_type": "display_data"
    }
   ],
   "source": [
    "means.plot()"
   ]
  },
  {
   "cell_type": "code",
   "execution_count": 13,
   "id": "162337a5",
   "metadata": {},
   "outputs": [
    {
     "data": {
      "text/plain": [
       "<AxesSubplot:xlabel='length'>"
      ]
     },
     "execution_count": 13,
     "metadata": {},
     "output_type": "execute_result"
    },
    {
     "data": {
      "image/png": "[encoded data removed]",
      "text/plain": [
       "<Figure size 432x288 with 1 Axes>"
      ]
     },
     "metadata": {
      "needs_background": "light"
     },
     "output_type": "display_data"
    }
   ],
   "source": [
    "means.plot(logx=True)"
   ]
  },
  {
   "cell_type": "code",
   "execution_count": 8,
   "id": "6cc2a9fb",
   "metadata": {},
   "outputs": [],
   "source": [
    "counts = val.groupby(['length']).count()"
   ]
  },
  {
   "cell_type": "code",
   "execution_count": 15,
   "id": "8ef4e7ae",
   "metadata": {},
   "outputs": [
    {
     "data": {
      "text/plain": [
       "<AxesSubplot:xlabel='length'>"
      ]
     },
     "execution_count": 15,
     "metadata": {},
     "output_type": "execute_result"
    },
    {
     "data": {
      "image/png": "[encoded data removed]",
      "text/plain": [
       "<Figure size 1440x720 with 1 Axes>"
      ]
     },
     "metadata": {
      "needs_background": "light"
     },
     "output_type": "display_data"
    }
   ],
   "source": [
    "counts.plot(kind='bar',figsize=(20,10))"
   ]
  },
  {
   "cell_type": "code",
   "execution_count": null,
   "id": "67be9566",
   "metadata": {},
   "outputs": [],
   "source": []
  },
  {
   "cell_type": "markdown",
   "id": "df12e5ea",
   "metadata": {},
   "source": [
    "Linear regression as benchmark log(length) -> y"
   ]
  },
  {
   "cell_type": "code",
   "execution_count": 5,
   "id": "91ed1d89",
   "metadata": {},
   "outputs": [],
   "source": [
    "X = np.log2(val.length.values)[:,None]"
   ]
  },
  {
   "cell_type": "code",
   "execution_count": 9,
   "id": "ff412da5",
   "metadata": {
    "scrolled": true
   },
   "outputs": [],
   "source": [
    "length2weight = {k:1/v for k,v in counts.to_dict()['val'].items()}"
   ]
  },
  {
   "cell_type": "code",
   "execution_count": 10,
   "id": "838b2a8b",
   "metadata": {},
   "outputs": [],
   "source": [
    "weights = val.length.map(length2weight)"
   ]
  },
  {
   "cell_type": "code",
   "execution_count": 11,
   "id": "cbe1174f",
   "metadata": {},
   "outputs": [],
   "source": [
    "y = val.val.values"
   ]
  },
  {
   "cell_type": "code",
   "execution_count": 12,
   "id": "8e8275fc",
   "metadata": {},
   "outputs": [],
   "source": [
    "model = SGDRegressor(eta0=0.5)"
   ]
  },
  {
   "cell_type": "code",
   "execution_count": 13,
   "id": "1362f6fb",
   "metadata": {},
   "outputs": [
    {
     "data": {
      "text/html": [
       "<style>#sk-container-id-1 {color: black;background-color: white;}#sk-container-id-1 pre{padding: 0;}#sk-container-id-1 div.sk-toggleable {background-color: white;}#sk-container-id-1 label.sk-toggleable__label {cursor: pointer;display: block;width: 100%;margin-bottom: 0;padding: 0.3em;box-sizing: border-box;text-align: center;}#sk-container-id-1 label.sk-toggleable__label-arrow:before {content: \"▸\";float: left;margin-right: 0.25em;color: #696969;}#sk-container-id-1 label.sk-toggleable__label-arrow:hover:before {color: black;}#sk-container-id-1 div.sk-estimator:hover label.sk-toggleable__label-arrow:before {color: black;}#sk-container-id-1 div.sk-toggleable__content {max-height: 0;max-width: 0;overflow: hidden;text-align: left;background-color: #f0f8ff;}#sk-container-id-1 div.sk-toggleable__content pre {margin: 0.2em;color: black;border-radius: 0.25em;background-color: #f0f8ff;}#sk-container-id-1 input.sk-toggleable__control:checked~div.sk-toggleable__content {max-height: 200px;max-width: 100%;overflow: auto;}#sk-container-id-1 input.sk-toggleable__control:checked~label.sk-toggleable__label-arrow:before {content: \"▾\";}#sk-container-id-1 div.sk-estimator input.sk-toggleable__control:checked~label.sk-toggleable__label {background-color: #d4ebff;}#sk-container-id-1 div.sk-label input.sk-toggleable__control:checked~label.sk-toggleable__label {background-color: #d4ebff;}#sk-container-id-1 input.sk-hidden--visually {border: 0;clip: rect(1px 1px 1px 1px);clip: rect(1px, 1px, 1px, 1px);height: 1px;margin: -1px;overflow: hidden;padding: 0;position: absolute;width: 1px;}#sk-container-id-1 div.sk-estimator {font-family: monospace;background-color: #f0f8ff;border: 1px dotted black;border-radius: 0.25em;box-sizing: border-box;margin-bottom: 0.5em;}#sk-container-id-1 div.sk-estimator:hover {background-color: #d4ebff;}#sk-container-id-1 div.sk-parallel-item::after {content: \"\";width: 100%;border-bottom: 1px solid gray;flex-grow: 1;}#sk-container-id-1 div.sk-label:hover label.sk-toggleable__label {background-color: #d4ebff;}#sk-container-id-1 div.sk-serial::before {content: \"\";position: absolute;border-left: 1px solid gray;box-sizing: border-box;top: 0;bottom: 0;left: 50%;z-index: 0;}#sk-container-id-1 div.sk-serial {display: flex;flex-direction: column;align-items: center;background-color: white;padding-right: 0.2em;padding-left: 0.2em;position: relative;}#sk-container-id-1 div.sk-item {position: relative;z-index: 1;}#sk-container-id-1 div.sk-parallel {display: flex;align-items: stretch;justify-content: center;background-color: white;position: relative;}#sk-container-id-1 div.sk-item::before, #sk-container-id-1 div.sk-parallel-item::before {content: \"\";position: absolute;border-left: 1px solid gray;box-sizing: border-box;top: 0;bottom: 0;left: 50%;z-index: -1;}#sk-container-id-1 div.sk-parallel-item {display: flex;flex-direction: column;z-index: 1;position: relative;background-color: white;}#sk-container-id-1 div.sk-parallel-item:first-child::after {align-self: flex-end;width: 50%;}#sk-container-id-1 div.sk-parallel-item:last-child::after {align-self: flex-start;width: 50%;}#sk-container-id-1 div.sk-parallel-item:only-child::after {width: 0;}#sk-container-id-1 div.sk-dashed-wrapped {border: 1px dashed gray;margin: 0 0.4em 0.5em 0.4em;box-sizing: border-box;padding-bottom: 0.4em;background-color: white;}#sk-container-id-1 div.sk-label label {font-family: monospace;font-weight: bold;display: inline-block;line-height: 1.2em;}#sk-container-id-1 div.sk-label-container {text-align: center;}#sk-container-id-1 div.sk-container {/* jupyter's `normalize.less` sets `[hidden] { display: none; }` but bootstrap.min.css set `[hidden] { display: none !important; }` so we also need the `!important` here to be able to override the default hidden behavior on the sphinx rendered scikit-learn.org. See: https://github.com/scikit-learn/scikit-learn/issues/21755 */display: inline-block !important;position: relative;}#sk-container-id-1 div.sk-text-repr-fallback {display: none;}</style><div id=\"sk-container-id-1\" class=\"sk-top-container\"><div class=\"sk-text-repr-fallback\"><pre>SGDRegressor(eta0=0.5)</pre><b>In a Jupyter environment, please rerun this cell to show the HTML representation or trust the notebook. <br />On GitHub, the HTML representation is unable to render, please try loading this page with nbviewer.org.</b></div><div class=\"sk-container\" hidden><div class=\"sk-item\"><div class=\"sk-estimator sk-toggleable\"><input class=\"sk-toggleable__control sk-hidden--visually\" id=\"sk-estimator-id-1\" type=\"checkbox\" checked><label for=\"sk-estimator-id-1\" class=\"sk-toggleable__label sk-toggleable__label-arrow\">SGDRegressor</label><div class=\"sk-toggleable__content\"><pre>SGDRegressor(eta0=0.5)</pre></div></div></div></div></div>"
      ],
      "text/plain": [
       "SGDRegressor(eta0=0.5)"
      ]
     },
     "execution_count": 13,
     "metadata": {},
     "output_type": "execute_result"
    }
   ],
   "source": [
    "model.fit(X,y,sample_weight=weights)"
   ]
  },
  {
   "cell_type": "code",
   "execution_count": 14,
   "id": "db25e4d2",
   "metadata": {},
   "outputs": [
    {
     "data": {
      "text/plain": [
       "array([0.13663686])"
      ]
     },
     "execution_count": 14,
     "metadata": {},
     "output_type": "execute_result"
    }
   ],
   "source": [
    "model.coef_"
   ]
  },
  {
   "cell_type": "code",
   "execution_count": 23,
   "id": "402411ba",
   "metadata": {},
   "outputs": [],
   "source": [
    "yhat = model.predict(X)"
   ]
  },
  {
   "cell_type": "code",
   "execution_count": 24,
   "id": "91dd7ab6",
   "metadata": {},
   "outputs": [
    {
     "data": {
      "text/plain": [
       "0.10877499312851838"
      ]
     },
     "execution_count": 24,
     "metadata": {},
     "output_type": "execute_result"
    }
   ],
   "source": [
    "np.sum(np.abs(y-yhat)*weights)/np.sum(weights)"
   ]
  },
  {
   "cell_type": "code",
   "execution_count": 25,
   "id": "2b0116ab",
   "metadata": {},
   "outputs": [],
   "source": [
    "import matplotlib.pyplot as plt"
   ]
  },
  {
   "cell_type": "code",
   "execution_count": 26,
   "id": "12bcb02f",
   "metadata": {},
   "outputs": [
    {
     "data": {
      "text/plain": [
       "(array([6.00000e+00, 1.70000e+01, 6.50000e+01, 1.93000e+02, 6.98000e+02,\n",
       "        9.63000e+02, 6.46800e+03, 1.09980e+04, 2.83170e+04, 6.76540e+04,\n",
       "        1.44032e+05, 2.59622e+05, 1.26500e+03, 4.05222e+05, 5.06917e+05,\n",
       "        3.85800e+03, 4.87090e+05, 2.50040e+04, 8.46100e+03, 3.22160e+05,\n",
       "        1.06160e+04, 3.34800e+03, 4.42180e+04, 3.41900e+03, 3.70240e+04,\n",
       "        1.73300e+03, 2.74200e+03, 9.16400e+03, 1.36050e+04, 1.23400e+03,\n",
       "        2.01200e+03, 3.06600e+03, 7.23000e+02, 2.19300e+03, 2.74000e+02,\n",
       "        3.41000e+02, 3.42000e+02, 2.13000e+02, 1.90000e+02, 5.40000e+01,\n",
       "        3.20000e+01, 8.30000e+01, 0.00000e+00, 1.00000e+00, 1.90000e+01,\n",
       "        1.00000e+01, 0.00000e+00, 1.00000e+00, 2.00000e+00, 3.00000e+00]),\n",
       " array([-0.43620838, -0.41467897, -0.39314957, -0.37162016, -0.35009076,\n",
       "        -0.32856136, -0.30703195, -0.28550255, -0.26397314, -0.24244374,\n",
       "        -0.22091434, -0.19938493, -0.17785553, -0.15632612, -0.13479672,\n",
       "        -0.11326732, -0.09173791, -0.07020851, -0.0486791 , -0.0271497 ,\n",
       "        -0.0056203 ,  0.01590911,  0.03743851,  0.05896792,  0.08049732,\n",
       "         0.10202672,  0.12355613,  0.14508553,  0.16661494,  0.18814434,\n",
       "         0.20967374,  0.23120315,  0.25273255,  0.27426196,  0.29579136,\n",
       "         0.31732077,  0.33885017,  0.36037957,  0.38190898,  0.40343838,\n",
       "         0.42496779,  0.44649719,  0.46802659,  0.489556  ,  0.5110854 ,\n",
       "         0.53261481,  0.55414421,  0.57567361,  0.59720302,  0.61873242,\n",
       "         0.64026183]),\n",
       " <BarContainer object of 50 artists>)"
      ]
     },
     "execution_count": 26,
     "metadata": {},
     "output_type": "execute_result"
    },
    {
     "data": {
      "image/png": "[encoded data removed]",
      "text/plain": [
       "<Figure size 432x288 with 1 Axes>"
      ]
     },
     "metadata": {
      "needs_background": "light"
     },
     "output_type": "display_data"
    }
   ],
   "source": [
    "plt.hist(y-yhat,bins=50)"
   ]
  },
  {
   "cell_type": "code",
   "execution_count": 27,
   "id": "fff85b94",
   "metadata": {},
   "outputs": [],
   "source": [
    "np.save('ys.npy',y.astype(np.float32))\n",
    "np.save('weights.npy',weights.values.astype(np.float32))\n",
    "np.save('length.npy',val.length.values.astype(np.float32))"
   ]
  },
  {
   "cell_type": "code",
   "execution_count": 28,
   "id": "39bfdc4b",
   "metadata": {},
   "outputs": [],
   "source": [
    "indexes = [k for k,_ in mapping.items()]"
   ]
  },
  {
   "cell_type": "code",
   "execution_count": 29,
   "id": "11c1fb37",
   "metadata": {},
   "outputs": [],
   "source": [
    "with open('indexes.pkl', 'wb') as f:\n",
    "    pickle.dump(indexes, f)"
   ]
  },
  {
   "cell_type": "code",
   "execution_count": null,
   "id": "23a50c00",
   "metadata": {},
   "outputs": [],
   "source": []
  },
  {
   "cell_type": "code",
   "execution_count": null,
   "id": "88b0e2be",
   "metadata": {},
   "outputs": [],
   "source": []
  }
 ],
 "metadata": {
  "kernelspec": {
   "display_name": "Python 3 (ipykernel)",
   "language": "python",
   "name": "python3"
  },
  "language_info": {
   "codemirror_mode": {
    "name": "ipython",
    "version": 3
   },
   "file_extension": ".py",
   "mimetype": "text/x-python",
   "name": "python",
   "nbconvert_exporter": "python",
   "pygments_lexer": "ipython3",
   "version": "3.8.10"
  }
 },
 "nbformat": 4,
 "nbformat_minor": 5
}
