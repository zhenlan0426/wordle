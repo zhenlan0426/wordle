{
 "cells": [
  {
   "cell_type": "markdown",
   "id": "3991de65",
   "metadata": {},
   "source": [
    "possible words embed int"
   ]
  },
  {
   "cell_type": "code",
   "execution_count": 8,
   "id": "aae67e93",
   "metadata": {},
   "outputs": [],
   "source": [
    "import string\n",
    "import numpy as np"
   ]
  },
  {
   "cell_type": "code",
   "execution_count": 2,
   "id": "68b76c7d",
   "metadata": {},
   "outputs": [],
   "source": [
    "possible_words = []\n",
    "with open('possible_words.txt') as fp:\n",
    "    possible_words.extend([word.strip() for word in fp.readlines()])"
   ]
  },
  {
   "cell_type": "code",
   "execution_count": 3,
   "id": "8532bdad",
   "metadata": {},
   "outputs": [],
   "source": [
    "mapping = {c:i for i,c in enumerate(string.ascii_lowercase[:26])}"
   ]
  },
  {
   "cell_type": "code",
   "execution_count": 4,
   "id": "bda33407",
   "metadata": {},
   "outputs": [],
   "source": [
    "out = []\n",
    "for w in possible_words:\n",
    "    tmp = []\n",
    "    for c in w:\n",
    "        tmp.append(mapping[c])\n",
    "    out.append(tmp)"
   ]
  },
  {
   "cell_type": "code",
   "execution_count": 5,
   "id": "935b8a0e",
   "metadata": {},
   "outputs": [],
   "source": [
    "out = np.array(out)"
   ]
  },
  {
   "cell_type": "code",
   "execution_count": 9,
   "id": "d5d7f505",
   "metadata": {},
   "outputs": [],
   "source": [
    "# torch.save(out, 'possible_words_embed.pt')\n",
    "\n",
    "# embed = torch.nn.Embedding(26, 8)\n",
    "# e = embed(out)\n",
    "\n",
    "# out = torch.load('possible_words_embed.pt')"
   ]
  },
  {
   "cell_type": "code",
   "execution_count": 15,
   "id": "07754273",
   "metadata": {},
   "outputs": [],
   "source": [
    "np.save('possible_words_embed.npy',out)"
   ]
  },
  {
   "cell_type": "code",
   "execution_count": null,
   "id": "971aa4a8",
   "metadata": {},
   "outputs": [],
   "source": []
  },
  {
   "cell_type": "code",
   "execution_count": null,
   "id": "2f7fb091",
   "metadata": {},
   "outputs": [],
   "source": []
  },
  {
   "cell_type": "markdown",
   "id": "2857fbbd",
   "metadata": {},
   "source": [
    "study mapping"
   ]
  },
  {
   "cell_type": "code",
   "execution_count": 1,
   "id": "d6e3a208",
   "metadata": {},
   "outputs": [],
   "source": [
    "import pandas as pd\n",
    "import numpy as np\n",
    "from sklearn.linear_model import SGDRegressor\n",
    "%matplotlib inline\n",
    "pd.set_option('display.max_rows', 200)"
   ]
  },
  {
   "cell_type": "code",
   "execution_count": 2,
   "id": "38ccbf07",
   "metadata": {},
   "outputs": [],
   "source": [
    "import pickle\n",
    "with open('mapping.pkl', 'rb') as f:\n",
    "    mapping = pickle.load(f)"
   ]
  },
  {
   "cell_type": "code",
   "execution_count": 7,
   "id": "55f0b8bf",
   "metadata": {},
   "outputs": [
    {
     "data": {
      "text/plain": [
       "True"
      ]
     },
     "execution_count": 7,
     "metadata": {},
     "output_type": "execute_result"
    }
   ],
   "source": [
    "# check key in mapping is sorted, i.e. a set rather than a tuple\n",
    "# out = []\n",
    "# for t,_ in mapping.items():\n",
    "#     out.append(all([a>b for a,b in zip(t[1:],t[:-1])]))\n",
    "# all(out) -> True"
   ]
  },
  {
   "cell_type": "code",
   "execution_count": 3,
   "id": "fd8f9ed1",
   "metadata": {},
   "outputs": [],
   "source": [
    "val = pd.DataFrame([[len(k),v] for k,v in mapping.items()])"
   ]
  },
  {
   "cell_type": "code",
   "execution_count": 5,
   "id": "abb4a84b",
   "metadata": {},
   "outputs": [],
   "source": [
    "val.columns = ['length','val']"
   ]
  },
  {
   "cell_type": "code",
   "execution_count": 10,
   "id": "593420d8",
   "metadata": {},
   "outputs": [],
   "source": [
    "means = val.groupby(['length']).val.mean()"
   ]
  },
  {
   "cell_type": "code",
   "execution_count": 14,
   "id": "064920f5",
   "metadata": {},
   "outputs": [
    {
     "data": {
      "text/plain": [
       "<AxesSubplot:xlabel='length'>"
      ]
     },
     "execution_count": 14,
     "metadata": {},
     "output_type": "execute_result"
    },
    {
     "data": {
      "image/png": "[encoded data removed]",
      "text/plain": [
       "<Figure size 432x288 with 1 Axes>"
      ]
     },
     "metadata": {
      "needs_background": "light"
     },
     "output_type": "display_data"
    }
   ],
   "source": [
    "means.plot()"
   ]
  },
  {
   "cell_type": "code",
   "execution_count": 15,
   "id": "162337a5",
   "metadata": {},
   "outputs": [
    {
     "data": {
      "text/plain": [
       "<AxesSubplot:xlabel='length'>"
      ]
     },
     "execution_count": 15,
     "metadata": {},
     "output_type": "execute_result"
    },
    {
     "data": {
      "image/png": "[encoded data removed]",
      "text/plain": [
       "<Figure size 432x288 with 1 Axes>"
      ]
     },
     "metadata": {
      "needs_background": "light"
     },
     "output_type": "display_data"
    }
   ],
   "source": [
    "means.plot(logx=True)"
   ]
  },
  {
   "cell_type": "code",
   "execution_count": 6,
   "id": "6cc2a9fb",
   "metadata": {},
   "outputs": [],
   "source": [
    "counts = val.groupby(['length']).count()"
   ]
  },
  {
   "cell_type": "code",
   "execution_count": 7,
   "id": "8ef4e7ae",
   "metadata": {},
   "outputs": [
    {
     "data": {
      "text/plain": [
       "<AxesSubplot:xlabel='length'>"
      ]
     },
     "execution_count": 7,
     "metadata": {},
     "output_type": "execute_result"
    },
    {
     "data": {
      "image/png": "[encoded data removed]",
      "text/plain": [
       "<Figure size 1440x720 with 1 Axes>"
      ]
     },
     "metadata": {
      "needs_background": "light"
     },
     "output_type": "display_data"
    }
   ],
   "source": [
    "counts.plot(kind='bar',figsize=(20,10))"
   ]
  },
  {
   "cell_type": "code",
   "execution_count": null,
   "id": "d2b15ebf",
   "metadata": {},
   "outputs": [],
   "source": []
  },
  {
   "cell_type": "markdown",
   "id": "df12e5ea",
   "metadata": {},
   "source": [
    "Linear regression as benchmark log(length) -> y"
   ]
  },
  {
   "cell_type": "code",
   "execution_count": 40,
   "id": "91ed1d89",
   "metadata": {},
   "outputs": [],
   "source": [
    "X = np.log2(val.length.values)[:,None]"
   ]
  },
  {
   "cell_type": "code",
   "execution_count": 8,
   "id": "ff412da5",
   "metadata": {},
   "outputs": [],
   "source": [
    "length2weight = {k:1/v for k,v in counts.to_dict()['val'].items()}"
   ]
  },
  {
   "cell_type": "code",
   "execution_count": 9,
   "id": "838b2a8b",
   "metadata": {},
   "outputs": [],
   "source": [
    "weights = val.length.map(length2weight)"
   ]
  },
  {
   "cell_type": "code",
   "execution_count": 10,
   "id": "cbe1174f",
   "metadata": {},
   "outputs": [],
   "source": [
    "y = val.val.values"
   ]
  },
  {
   "cell_type": "code",
   "execution_count": 56,
   "id": "8e8275fc",
   "metadata": {},
   "outputs": [],
   "source": [
    "model = SGDRegressor(eta0=0.5)"
   ]
  },
  {
   "cell_type": "code",
   "execution_count": 57,
   "id": "1362f6fb",
   "metadata": {},
   "outputs": [
    {
     "data": {
      "text/plain": [
       "SGDRegressor(eta0=0.5)"
      ]
     },
     "execution_count": 57,
     "metadata": {},
     "output_type": "execute_result"
    }
   ],
   "source": [
    "model.fit(X,y,sample_weight=weights)"
   ]
  },
  {
   "cell_type": "code",
   "execution_count": 58,
   "id": "402411ba",
   "metadata": {},
   "outputs": [],
   "source": [
    "yhat = model.predict(X)"
   ]
  },
  {
   "cell_type": "code",
   "execution_count": 60,
   "id": "91dd7ab6",
   "metadata": {},
   "outputs": [
    {
     "data": {
      "text/plain": [
       "0.0928318093993816"
      ]
     },
     "execution_count": 60,
     "metadata": {},
     "output_type": "execute_result"
    }
   ],
   "source": [
    "np.sum(np.abs(y-yhat)*weights)/np.sum(weights)"
   ]
  },
  {
   "cell_type": "code",
   "execution_count": 64,
   "id": "2b0116ab",
   "metadata": {},
   "outputs": [],
   "source": [
    "import matplotlib.pyplot as plt"
   ]
  },
  {
   "cell_type": "code",
   "execution_count": 65,
   "id": "12bcb02f",
   "metadata": {},
   "outputs": [
    {
     "data": {
      "text/plain": [
       "(array([8.00000e+00, 1.60000e+01, 7.00000e+01, 7.40000e+01, 4.34000e+02,\n",
       "        6.58000e+02, 4.34100e+03, 7.76700e+03, 2.00070e+04, 4.69580e+04,\n",
       "        1.22900e+03, 1.00982e+05, 1.86488e+05, 2.99463e+05, 6.69400e+03,\n",
       "        3.84761e+05, 1.16890e+04, 3.77193e+05, 2.21890e+04, 1.30500e+03,\n",
       "        2.73690e+05, 1.28100e+03, 3.54170e+04, 1.19200e+03, 5.49400e+03,\n",
       "        2.76980e+04, 2.36000e+03, 4.22600e+03, 5.96400e+03, 1.03390e+04,\n",
       "        2.68200e+03, 8.14000e+02, 2.26000e+03, 6.51000e+02, 2.24900e+03,\n",
       "        3.22000e+02, 2.47000e+02, 2.91000e+02, 1.91000e+02, 3.40000e+01,\n",
       "        2.80000e+01, 9.70000e+01, 0.00000e+00, 3.00000e+00, 1.10000e+01,\n",
       "        1.60000e+01, 0.00000e+00, 1.00000e+00, 0.00000e+00, 5.00000e+00]),\n",
       " array([-0.44470884, -0.42322479, -0.40174075, -0.3802567 , -0.35877265,\n",
       "        -0.3372886 , -0.31580456, -0.29432051, -0.27283646, -0.25135242,\n",
       "        -0.22986837, -0.20838432, -0.18690027, -0.16541623, -0.14393218,\n",
       "        -0.12244813, -0.10096408, -0.07948004, -0.05799599, -0.03651194,\n",
       "        -0.0150279 ,  0.00645615,  0.0279402 ,  0.04942425,  0.07090829,\n",
       "         0.09239234,  0.11387639,  0.13536044,  0.15684448,  0.17832853,\n",
       "         0.19981258,  0.22129662,  0.24278067,  0.26426472,  0.28574877,\n",
       "         0.30723281,  0.32871686,  0.35020091,  0.37168495,  0.393169  ,\n",
       "         0.41465305,  0.4361371 ,  0.45762114,  0.47910519,  0.50058924,\n",
       "         0.52207329,  0.54355733,  0.56504138,  0.58652543,  0.60800947,\n",
       "         0.62949352]),\n",
       " <BarContainer object of 50 artists>)"
      ]
     },
     "execution_count": 65,
     "metadata": {},
     "output_type": "execute_result"
    },
    {
     "data": {
      "image/png": "[encoded data removed]",
      "text/plain": [
       "<Figure size 432x288 with 1 Axes>"
      ]
     },
     "metadata": {
      "needs_background": "light"
     },
     "output_type": "display_data"
    }
   ],
   "source": [
    "plt.hist(y-yhat,bins=50)"
   ]
  },
  {
   "cell_type": "code",
   "execution_count": 21,
   "id": "fff85b94",
   "metadata": {},
   "outputs": [],
   "source": [
    "np.save('ys.npy',y.astype(np.float32))\n",
    "np.save('weights.npy',weights.values.astype(np.float32))\n",
    "np.save('length.npy',val.length.values.astype(np.float32))"
   ]
  },
  {
   "cell_type": "code",
   "execution_count": 15,
   "id": "39bfdc4b",
   "metadata": {},
   "outputs": [],
   "source": [
    "indexes = [k for k,_ in mapping.items()]"
   ]
  },
  {
   "cell_type": "code",
   "execution_count": 23,
   "id": "11c1fb37",
   "metadata": {},
   "outputs": [],
   "source": [
    "with open('indexes.pkl', 'wb') as f:\n",
    "    pickle.dump(indexes, f)"
   ]
  },
  {
   "cell_type": "code",
   "execution_count": null,
   "id": "23a50c00",
   "metadata": {},
   "outputs": [],
   "source": []
  },
  {
   "cell_type": "markdown",
   "id": "569a7ef0",
   "metadata": {},
   "source": [
    "Data to train supervised baseline value function"
   ]
  },
  {
   "cell_type": "code",
   "execution_count": 2,
   "id": "17a24e95",
   "metadata": {},
   "outputs": [],
   "source": [
    "import numpy as np\n",
    "import torch\n",
    "import pickle\n",
    "from torch.utils.data import Dataset,DataLoader,WeightedRandomSampler"
   ]
  },
  {
   "cell_type": "code",
   "execution_count": 3,
   "id": "13951328",
   "metadata": {},
   "outputs": [],
   "source": [
    "ys = np.load('ys.npy')\n",
    "weights = np.load('weights.npy')\n",
    "length = np.load('length.npy')\n",
    "words_embed = np.load('possible_words_embed.npy')\n",
    "with open('indexes.pkl', 'rb') as f:\n",
    "    indexes = pickle.load( f)"
   ]
  },
  {
   "cell_type": "code",
   "execution_count": 29,
   "id": "ca68471e",
   "metadata": {},
   "outputs": [],
   "source": [
    "# train/val split\n",
    "train_idx = np.random.rand(ys.shape[0])>0.2\n",
    "val_idx = np.logical_not(train_idx)"
   ]
  },
  {
   "cell_type": "code",
   "execution_count": 33,
   "id": "d32c26cf",
   "metadata": {},
   "outputs": [],
   "source": [
    "ys_train, ys_val = ys[train_idx], ys[val_idx]\n",
    "weights_train, weights_val = weights[train_idx], weights[val_idx]\n",
    "length_train, length_val = length[train_idx], length[val_idx]\n",
    "\n",
    "indexes_train = [idx for idx,bol in zip(indexes,train_idx) if bol]\n",
    "indexes_val = [idx for idx,bol in zip(indexes,train_idx) if not bol]"
   ]
  },
  {
   "cell_type": "code",
   "execution_count": null,
   "id": "d6abb37e",
   "metadata": {},
   "outputs": [],
   "source": []
  },
  {
   "cell_type": "code",
   "execution_count": null,
   "id": "f0536066",
   "metadata": {},
   "outputs": [],
   "source": []
  },
  {
   "cell_type": "code",
   "execution_count": 4,
   "id": "86d003b3",
   "metadata": {},
   "outputs": [],
   "source": [
    "class CustomDataset(Dataset):\n",
    "    def __init__(self, ys,length,indexes,words_embed):\n",
    "        self.ys = ys\n",
    "        self.length = length\n",
    "        self.words_embed = words_embed\n",
    "        self.indexes = indexes\n",
    "\n",
    "    def __len__(self):\n",
    "        return len(self.ys)\n",
    "\n",
    "    def __getitem__(self, idx):\n",
    "        return self.words_embed[np.array(self.indexes[idx])], self.length[idx] ,self.ys[idx]\n",
    "    \n",
    "def collate(batch):\n",
    "    words,length,ys = zip(*batch)\n",
    "    return torch.tensor(np.concatenate(words)).long(),torch.tensor(length),torch.tensor(ys)"
   ]
  },
  {
   "cell_type": "code",
   "execution_count": 5,
   "id": "5fc53f25",
   "metadata": {},
   "outputs": [],
   "source": [
    "data = CustomDataset(ys,length,indexes,words_embed)\n",
    "sampler = WeightedRandomSampler(weights, 10000)\n",
    "data = DataLoader(data, batch_size=32, sampler=sampler,collate_fn=collate)"
   ]
  },
  {
   "cell_type": "code",
   "execution_count": 6,
   "id": "b7805d57",
   "metadata": {},
   "outputs": [],
   "source": [
    "#%debug\n",
    "for words,length,ys in data:\n",
    "    break"
   ]
  },
  {
   "cell_type": "code",
   "execution_count": null,
   "id": "c7b1d89d",
   "metadata": {},
   "outputs": [],
   "source": []
  },
  {
   "cell_type": "markdown",
   "id": "c32d6447",
   "metadata": {},
   "source": [
    "Model"
   ]
  },
  {
   "cell_type": "code",
   "execution_count": 1,
   "id": "c2424b97",
   "metadata": {},
   "outputs": [],
   "source": [
    "import torch.nn as nn\n",
    "from torch.nn import Embedding,Sequential, Linear, BatchNorm1d,Dropout,LeakyReLU\n",
    "#from torch_scatter import segment_csr"
   ]
  },
  {
   "cell_type": "code",
   "execution_count": 7,
   "id": "71030420",
   "metadata": {},
   "outputs": [
    {
     "data": {
      "text/plain": [
       "torch.Size([2395, 5])"
      ]
     },
     "execution_count": 7,
     "metadata": {},
     "output_type": "execute_result"
    }
   ],
   "source": [
    "words.shape"
   ]
  },
  {
   "cell_type": "code",
   "execution_count": 8,
   "id": "bbccba7b",
   "metadata": {},
   "outputs": [
    {
     "data": {
      "text/plain": [
       "tensor([  3.,  63.,  77.,  28., 118.,  98.,  85., 136.,  66.,  42., 144.,  75.,\n",
       "         53.,  51., 176., 176., 153.,  48.,  32.,  56.,   6.,  29.,  25.,  32.,\n",
       "        171.,  26., 118.,  13.,  17.,  50., 181.,  47.])"
      ]
     },
     "execution_count": 8,
     "metadata": {},
     "output_type": "execute_result"
    }
   ],
   "source": [
    "length"
   ]
  },
  {
   "cell_type": "code",
   "execution_count": 9,
   "id": "c3d1948d",
   "metadata": {},
   "outputs": [
    {
     "data": {
      "text/plain": [
       "tensor([1.0000, 1.7460, 1.7662, 1.3929, 1.9237, 1.8061, 1.8471, 1.9265, 1.7424,\n",
       "        1.6667, 1.8472, 1.7067, 1.9245, 1.6471, 1.9375, 1.9375, 1.9673, 1.5833,\n",
       "        1.4688, 1.6429, 1.0000, 1.6207, 1.3600, 1.2812, 1.9591, 1.4231, 1.9237,\n",
       "        1.2308, 1.0000, 1.6000, 1.9061, 1.5745])"
      ]
     },
     "execution_count": 9,
     "metadata": {},
     "output_type": "execute_result"
    }
   ],
   "source": [
    "ys"
   ]
  },
  {
   "cell_type": "code",
   "execution_count": 10,
   "id": "bf95f07a",
   "metadata": {},
   "outputs": [],
   "source": [
    "embed_size = 8"
   ]
  },
  {
   "cell_type": "code",
   "execution_count": 11,
   "id": "816e2002",
   "metadata": {},
   "outputs": [],
   "source": [
    "def MLP(in_d,out_d,multiple_factor=1,dropout=0.1):\n",
    "    return Sequential(\n",
    "                        Linear(in_d,in_d*multiple_factor),\n",
    "                        LeakyReLU(inplace=True),\n",
    "                        Dropout(dropout),\n",
    "                        BatchNorm1d(in_d*multiple_factor),\n",
    "                        Linear(in_d*multiple_factor,out_d),\n",
    "                        LeakyReLU(inplace=True),\n",
    "                        Dropout(dropout),\n",
    "                        BatchNorm1d(out_d))"
   ]
  },
  {
   "cell_type": "code",
   "execution_count": 30,
   "id": "2ea793c4",
   "metadata": {},
   "outputs": [],
   "source": []
  },
  {
   "cell_type": "code",
   "execution_count": 12,
   "id": "2adedd8f",
   "metadata": {},
   "outputs": [],
   "source": [
    "length_int = length.to(torch.long)"
   ]
  },
  {
   "cell_type": "code",
   "execution_count": 13,
   "id": "14dce11e",
   "metadata": {},
   "outputs": [],
   "source": [
    "embed = torch.nn.Embedding(26, embed_size)"
   ]
  },
  {
   "cell_type": "code",
   "execution_count": 14,
   "id": "c08811bf",
   "metadata": {},
   "outputs": [],
   "source": [
    "point = MLP(5*embed_size,5*embed_size)\n",
    "group = MLP(5*embed_size,5*embed_size)\n",
    "combine = Sequential(\n",
    "                        Linear(5*embed_size*2,5*embed_size),\n",
    "                        LeakyReLU(inplace=True),\n",
    "                        Dropout(dropout),\n",
    "                        BatchNorm1d(out_d))"
   ]
  },
  {
   "cell_type": "code",
   "execution_count": 15,
   "id": "3a6cd69e",
   "metadata": {},
   "outputs": [],
   "source": [
    "in_ = embed(words).reshape(-1,5*embed_size)\n",
    "len_long = torch.cat([torch.ones(l,dtype=torch.long,device=length_int.device)*i for i,l in enumerate(length_int)])"
   ]
  },
  {
   "cell_type": "code",
   "execution_count": 16,
   "id": "dacac686",
   "metadata": {},
   "outputs": [],
   "source": [
    "out = point(out)"
   ]
  },
  {
   "cell_type": "code",
   "execution_count": 31,
   "id": "891a941f",
   "metadata": {},
   "outputs": [],
   "source": [
    "# group = torch_scatter.segment_csr...\n",
    "out_group = torch.randn(32,40)\n",
    "out_group = group(out_group)"
   ]
  },
  {
   "cell_type": "code",
   "execution_count": 18,
   "id": "0faf3603",
   "metadata": {},
   "outputs": [
    {
     "data": {
      "text/plain": [
       "tensor([  3,  63,  77,  28, 118,  98,  85, 136,  66,  42, 144,  75,  53,  51,\n",
       "        176, 176, 153,  48,  32,  56,   6,  29,  25,  32, 171,  26, 118,  13,\n",
       "         17,  50, 181,  47])"
      ]
     },
     "execution_count": 18,
     "metadata": {},
     "output_type": "execute_result"
    }
   ],
   "source": [
    "length_int#.sum()"
   ]
  },
  {
   "cell_type": "code",
   "execution_count": 20,
   "id": "b3a092a3",
   "metadata": {},
   "outputs": [],
   "source": []
  },
  {
   "cell_type": "code",
   "execution_count": 36,
   "id": "3f033c47",
   "metadata": {},
   "outputs": [],
   "source": [
    "out = torch.cat([out,out_group[len_long]],1)"
   ]
  },
  {
   "cell_type": "code",
   "execution_count": 37,
   "id": "3bf27406",
   "metadata": {},
   "outputs": [
    {
     "data": {
      "text/plain": [
       "torch.Size([2395, 80])"
      ]
     },
     "execution_count": 37,
     "metadata": {},
     "output_type": "execute_result"
    }
   ],
   "source": [
    "out = combine(out) + in_"
   ]
  },
  {
   "cell_type": "code",
   "execution_count": null,
   "id": "50f9dd01",
   "metadata": {},
   "outputs": [],
   "source": []
  }
 ],
 "metadata": {
  "kernelspec": {
   "display_name": "Python 3 (ipykernel)",
   "language": "python",
   "name": "python3"
  },
  "language_info": {
   "codemirror_mode": {
    "name": "ipython",
    "version": 3
   },
   "file_extension": ".py",
   "mimetype": "text/x-python",
   "name": "python",
   "nbconvert_exporter": "python",
   "pygments_lexer": "ipython3",
   "version": "3.7.6"
  }
 },
 "nbformat": 4,
 "nbformat_minor": 5
}
