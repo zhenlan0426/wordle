{
 "cells": [
  {
   "cell_type": "code",
   "execution_count": 1,
   "id": "c6f62d3e",
   "metadata": {},
   "outputs": [],
   "source": [
    "import string\n",
    "import torch"
   ]
  },
  {
   "cell_type": "code",
   "execution_count": 2,
   "id": "68b76c7d",
   "metadata": {},
   "outputs": [],
   "source": [
    "possible_words = []\n",
    "with open('possible_words.txt') as fp:\n",
    "    possible_words.extend([word.strip() for word in fp.readlines()])"
   ]
  },
  {
   "cell_type": "code",
   "execution_count": 3,
   "id": "8532bdad",
   "metadata": {},
   "outputs": [],
   "source": [
    "mapping = {c:i for i,c in enumerate(string.ascii_lowercase[:26])}"
   ]
  },
  {
   "cell_type": "code",
   "execution_count": 4,
   "id": "bda33407",
   "metadata": {},
   "outputs": [],
   "source": [
    "out = []\n",
    "for w in possible_words:\n",
    "    tmp = []\n",
    "    for c in w:\n",
    "        tmp.append(mapping[c])\n",
    "    out.append(tmp)"
   ]
  },
  {
   "cell_type": "code",
   "execution_count": 5,
   "id": "935b8a0e",
   "metadata": {},
   "outputs": [],
   "source": [
    "out = torch.tensor(out).long()"
   ]
  },
  {
   "cell_type": "code",
   "execution_count": 9,
   "id": "d5d7f505",
   "metadata": {},
   "outputs": [],
   "source": [
    "torch.save(out, 'possible_words_embed.pt')"
   ]
  },
  {
   "cell_type": "code",
   "execution_count": 4,
   "id": "2eff56fa",
   "metadata": {},
   "outputs": [],
   "source": [
    "# embed = torch.nn.Embedding(26, 8)\n",
    "# e = embed(out)"
   ]
  },
  {
   "cell_type": "code",
   "execution_count": 2,
   "id": "4acf710e",
   "metadata": {},
   "outputs": [],
   "source": [
    "out = torch.load('possible_words_embed.pt')"
   ]
  },
  {
   "cell_type": "code",
   "execution_count": 10,
   "id": "07754273",
   "metadata": {},
   "outputs": [
    {
     "data": {
      "text/plain": [
       "tensor([[ 0,  1,  0,  2, 10],\n",
       "        [ 0,  1,  0, 18,  4],\n",
       "        [ 0,  1,  0, 19,  4],\n",
       "        ...,\n",
       "        [25,  4,  1, 17,  0],\n",
       "        [25,  4, 18, 19, 24],\n",
       "        [25, 14, 13,  0, 11]])"
      ]
     },
     "execution_count": 10,
     "metadata": {},
     "output_type": "execute_result"
    }
   ],
   "source": [
    "out"
   ]
  },
  {
   "cell_type": "code",
   "execution_count": null,
   "id": "350e065c",
   "metadata": {},
   "outputs": [],
   "source": []
  }
 ],
 "metadata": {
  "kernelspec": {
   "display_name": "Python 3 (ipykernel)",
   "language": "python",
   "name": "python3"
  },
  "language_info": {
   "codemirror_mode": {
    "name": "ipython",
    "version": 3
   },
   "file_extension": ".py",
   "mimetype": "text/x-python",
   "name": "python",
   "nbconvert_exporter": "python",
   "pygments_lexer": "ipython3",
   "version": "3.7.6"
  }
 },
 "nbformat": 4,
 "nbformat_minor": 5
}
