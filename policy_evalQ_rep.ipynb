{
 "cells": [
  {
   "cell_type": "code",
   "execution_count": 1,
   "id": "4365dfc2",
   "metadata": {},
   "outputs": [],
   "source": [
    "from functions import *\n",
    "from torch.optim import Adam\n",
    "from functions_pt import *"
   ]
  },
  {
   "cell_type": "code",
   "execution_count": 2,
   "id": "d3d034f1",
   "metadata": {},
   "outputs": [],
   "source": [
    "embed_size = 160\n",
    "dropout = 0.1\n",
    "multiple_factor = 1\n",
    "layers = 2\n",
    "batch_size = 64\n",
    "concat = True\n",
    "agg = 'mean' # mean,sum,min,max\n",
    "model = pointNetQ_rep(layers,embed_size,agg,dropout,multiple_factor,concat)#.to('cuda')\n",
    "#model.load_state_dict(torch.load('baseline_noBN.pt'))\n",
    "#model.eval()\n",
    "model = model.to('cuda')"
   ]
  },
  {
   "cell_type": "code",
   "execution_count": 3,
   "id": "c1a04240",
   "metadata": {},
   "outputs": [],
   "source": [
    "words_embed = np.load('possible_words_embed.npy')"
   ]
  },
  {
   "cell_type": "code",
   "execution_count": null,
   "id": "6043844d",
   "metadata": {},
   "outputs": [],
   "source": []
  },
  {
   "cell_type": "markdown",
   "id": "6673db7f",
   "metadata": {},
   "source": [
    "RL Loop"
   ]
  },
  {
   "cell_type": "code",
   "execution_count": 4,
   "id": "aabe764a",
   "metadata": {
    "scrolled": true
   },
   "outputs": [
    {
     "name": "stdout",
     "output_type": "stream",
     "text": [
      "iter:0, score:3.751840623646602\n",
      "set size:428\n",
      "loss:2.196314811706543\n",
      "loss:1.4182347059249878\n",
      "loss:0.9087357521057129\n",
      "iter:1, score:3.8198354265915992\n",
      "set size:859\n",
      "loss:0.559843122959137\n",
      "loss:0.37274736166000366\n",
      "loss:0.30474889278411865\n",
      "iter:2, score:3.803811173668255\n",
      "set size:1292\n",
      "loss:0.3642876148223877\n",
      "loss:0.43358340859413147\n",
      "loss:0.4097062051296234\n",
      "iter:3, score:3.812472932005199\n",
      "set size:1708\n",
      "loss:0.6690727472305298\n",
      "loss:0.5615126490592957\n",
      "loss:0.2068507969379425\n",
      "iter:4, score:3.8254655695106123\n",
      "set size:2087\n",
      "loss:0.24361346662044525\n",
      "loss:0.26006144285202026\n",
      "loss:0.2416672259569168\n",
      "iter:5, score:3.787353832828066\n",
      "set size:2470\n",
      "loss:0.5064302086830139\n",
      "loss:0.217472106218338\n",
      "loss:0.2042892426252365\n",
      "iter:6, score:3.7899523603291505\n",
      "set size:2865\n",
      "loss:0.18245336413383484\n",
      "loss:0.16428406536579132\n",
      "loss:0.4189923405647278\n",
      "loss:0.4446525275707245\n",
      "loss:0.4231463670730591\n",
      "loss:0.41585108637809753\n",
      "loss:0.4260367751121521\n",
      "loss:0.3943471908569336\n",
      "loss:0.6958982944488525\n",
      "loss:0.16017092764377594\n",
      "iter:7, score:3.7739281074058035\n",
      "set size:3236\n",
      "loss:0.15515978634357452\n",
      "loss:0.1695035696029663\n",
      "loss:0.15886755287647247\n",
      "iter:8, score:3.7869207449112205\n",
      "set size:3599\n",
      "loss:0.8964439034461975\n",
      "loss:0.1725015491247177\n",
      "loss:0.4004227817058563\n",
      "loss:0.41855961084365845\n",
      "loss:0.1863853484392166\n",
      "iter:9, score:3.787353832828067\n",
      "set size:3959\n",
      "loss:0.12665551900863647\n",
      "loss:0.6692502498626709\n",
      "loss:0.15711113810539246\n",
      "loss:0.1293756514787674\n",
      "iter:10, score:3.772195755738416\n",
      "set size:4121\n",
      "loss:0.13178013265132904\n",
      "loss:0.13882745802402496\n",
      "loss:0.13849401473999023\n",
      "iter:11, score:3.799913382416632\n",
      "set size:4460\n",
      "loss:0.39045774936676025\n",
      "loss:0.35958990454673767\n",
      "loss:0.3935464918613434\n",
      "iter:12, score:3.805543525335645\n",
      "set size:4820\n",
      "loss:0.14011357724666595\n",
      "loss:0.12669020891189575\n",
      "loss:0.37352800369262695\n",
      "loss:0.37837091088294983\n",
      "loss:0.3783635199069977\n",
      "loss:0.09541540592908859\n",
      "iter:13, score:3.7782589865742766\n",
      "set size:5171\n",
      "loss:0.13850943744182587\n",
      "loss:0.37498125433921814\n",
      "loss:0.15300865471363068\n",
      "loss:0.1382121443748474\n"
     ]
    },
    {
     "ename": "KeyboardInterrupt",
     "evalue": "",
     "output_type": "error",
     "traceback": [
      "\u001b[0;31m---------------------------------------------------------------------------\u001b[0m",
      "\u001b[0;31mKeyboardInterrupt\u001b[0m                         Traceback (most recent call last)",
      "Input \u001b[0;32mIn [4]\u001b[0m, in \u001b[0;36m<cell line: 11>\u001b[0;34m()\u001b[0m\n\u001b[1;32m     11\u001b[0m \u001b[38;5;28;01mfor\u001b[39;00m i \u001b[38;5;129;01min\u001b[39;00m \u001b[38;5;28mrange\u001b[39m(iterations):\n\u001b[1;32m     12\u001b[0m     \u001b[38;5;66;03m# policy evaluation\u001b[39;00m\n\u001b[1;32m     13\u001b[0m     model\u001b[38;5;241m.\u001b[39meval()\n\u001b[0;32m---> 14\u001b[0m     score \u001b[38;5;241m=\u001b[39m \u001b[43mevaluate_saveQ\u001b[49m\u001b[43m(\u001b[49m\u001b[43mmatrix\u001b[49m\u001b[43m,\u001b[49m\u001b[43mnp\u001b[49m\u001b[38;5;241;43m.\u001b[39;49m\u001b[43marange\u001b[49m\u001b[43m(\u001b[49m\u001b[38;5;241;43m2309\u001b[39;49m\u001b[43m)\u001b[49m\u001b[43m,\u001b[49m\u001b[43mpolicy_modelQ_rep\u001b[49m\u001b[43m,\u001b[49m\u001b[38;5;241;43m2309\u001b[39;49m\u001b[43m,\u001b[49m\u001b[38;5;241;43m0\u001b[39;49m\u001b[43m,\u001b[49m\u001b[43mmodel\u001b[49m\u001b[38;5;241;43m=\u001b[39;49m\u001b[43mmodel\u001b[49m\u001b[43m,\u001b[49m\u001b[43mwords_embed\u001b[49m\u001b[38;5;241;43m=\u001b[39;49m\u001b[43mwords_embed\u001b[49m\u001b[43m,\u001b[49m\n\u001b[1;32m     15\u001b[0m \u001b[43m                           \u001b[49m\u001b[43mtop\u001b[49m\u001b[38;5;241;43m=\u001b[39;49m\u001b[38;5;241;43m0.6\u001b[39;49m\u001b[43m,\u001b[49m\u001b[43meps\u001b[49m\u001b[38;5;241;43m=\u001b[39;49m\u001b[38;5;241;43m0.02\u001b[39;49m\u001b[38;5;241;43m/\u001b[39;49m\u001b[43m(\u001b[49m\u001b[43mi\u001b[49m\u001b[38;5;241;43m+\u001b[39;49m\u001b[38;5;241;43m1\u001b[39;49m\u001b[43m)\u001b[49m\u001b[43m)\u001b[49m\n\u001b[1;32m     16\u001b[0m     \u001b[38;5;28mprint\u001b[39m(\u001b[38;5;124m'\u001b[39m\u001b[38;5;124miter:\u001b[39m\u001b[38;5;132;01m{}\u001b[39;00m\u001b[38;5;124m, score:\u001b[39m\u001b[38;5;132;01m{}\u001b[39;00m\u001b[38;5;124m'\u001b[39m\u001b[38;5;241m.\u001b[39mformat(i,score))\n\u001b[1;32m     17\u001b[0m     \u001b[38;5;28;01mif\u001b[39;00m score \u001b[38;5;241m<\u001b[39m best_score:\n",
      "File \u001b[0;32m~/Desktop/LC/wordle/functions.py:213\u001b[0m, in \u001b[0;36mevaluate_saveQ\u001b[0;34m(matrix, index, policy, count, log_p, **kways)\u001b[0m\n\u001b[1;32m    211\u001b[0m         \u001b[38;5;28;01mcontinue\u001b[39;00m \u001b[38;5;66;03m# guess_row += p * 0\u001b[39;00m\n\u001b[1;32m    212\u001b[0m     tmp2 \u001b[38;5;241m=\u001b[39m tmp \u001b[38;5;241m==\u001b[39m u\n\u001b[0;32m--> 213\u001b[0m     guess_row \u001b[38;5;241m+\u001b[39m\u001b[38;5;241m=\u001b[39m p \u001b[38;5;241m*\u001b[39m \u001b[43mevaluate_saveQ\u001b[49m\u001b[43m(\u001b[49m\u001b[43mmatrix\u001b[49m\u001b[43m[\u001b[49m\u001b[43m:\u001b[49m\u001b[43m,\u001b[49m\u001b[43mtmp2\u001b[49m\u001b[43m]\u001b[49m\u001b[43m,\u001b[49m\u001b[43mindex\u001b[49m\u001b[43m[\u001b[49m\u001b[43mtmp2\u001b[49m\u001b[43m]\u001b[49m\u001b[43m,\u001b[49m\u001b[43mpolicy\u001b[49m\u001b[43m,\u001b[49m\u001b[43mc\u001b[49m\u001b[43m,\u001b[49m\u001b[43mlog_p\u001b[49m\u001b[38;5;241;43m+\u001b[39;49m\u001b[43mnp\u001b[49m\u001b[38;5;241;43m.\u001b[39;49m\u001b[43mlog\u001b[49m\u001b[43m(\u001b[49m\u001b[43mp\u001b[49m\u001b[43m)\u001b[49m\u001b[43m,\u001b[49m\u001b[38;5;241;43m*\u001b[39;49m\u001b[38;5;241;43m*\u001b[39;49m\u001b[43mkways\u001b[49m\u001b[43m)\u001b[49m\n\u001b[1;32m    214\u001b[0m out\u001b[38;5;241m.\u001b[39mappend((index,guess_row\u001b[38;5;241m-\u001b[39m\u001b[38;5;241m1\u001b[39m,log_p,row,entro))\n\u001b[1;32m    215\u001b[0m \u001b[38;5;28;01mreturn\u001b[39;00m guess_row\n",
      "File \u001b[0;32m~/Desktop/LC/wordle/functions.py:213\u001b[0m, in \u001b[0;36mevaluate_saveQ\u001b[0;34m(matrix, index, policy, count, log_p, **kways)\u001b[0m\n\u001b[1;32m    211\u001b[0m         \u001b[38;5;28;01mcontinue\u001b[39;00m \u001b[38;5;66;03m# guess_row += p * 0\u001b[39;00m\n\u001b[1;32m    212\u001b[0m     tmp2 \u001b[38;5;241m=\u001b[39m tmp \u001b[38;5;241m==\u001b[39m u\n\u001b[0;32m--> 213\u001b[0m     guess_row \u001b[38;5;241m+\u001b[39m\u001b[38;5;241m=\u001b[39m p \u001b[38;5;241m*\u001b[39m \u001b[43mevaluate_saveQ\u001b[49m\u001b[43m(\u001b[49m\u001b[43mmatrix\u001b[49m\u001b[43m[\u001b[49m\u001b[43m:\u001b[49m\u001b[43m,\u001b[49m\u001b[43mtmp2\u001b[49m\u001b[43m]\u001b[49m\u001b[43m,\u001b[49m\u001b[43mindex\u001b[49m\u001b[43m[\u001b[49m\u001b[43mtmp2\u001b[49m\u001b[43m]\u001b[49m\u001b[43m,\u001b[49m\u001b[43mpolicy\u001b[49m\u001b[43m,\u001b[49m\u001b[43mc\u001b[49m\u001b[43m,\u001b[49m\u001b[43mlog_p\u001b[49m\u001b[38;5;241;43m+\u001b[39;49m\u001b[43mnp\u001b[49m\u001b[38;5;241;43m.\u001b[39;49m\u001b[43mlog\u001b[49m\u001b[43m(\u001b[49m\u001b[43mp\u001b[49m\u001b[43m)\u001b[49m\u001b[43m,\u001b[49m\u001b[38;5;241;43m*\u001b[39;49m\u001b[38;5;241;43m*\u001b[39;49m\u001b[43mkways\u001b[49m\u001b[43m)\u001b[49m\n\u001b[1;32m    214\u001b[0m out\u001b[38;5;241m.\u001b[39mappend((index,guess_row\u001b[38;5;241m-\u001b[39m\u001b[38;5;241m1\u001b[39m,log_p,row,entro))\n\u001b[1;32m    215\u001b[0m \u001b[38;5;28;01mreturn\u001b[39;00m guess_row\n",
      "File \u001b[0;32m~/Desktop/LC/wordle/functions.py:198\u001b[0m, in \u001b[0;36mevaluate_saveQ\u001b[0;34m(matrix, index, policy, count, log_p, **kways)\u001b[0m\n\u001b[1;32m    195\u001b[0m \u001b[38;5;28;01mif\u001b[39;00m count \u001b[38;5;241m==\u001b[39m \u001b[38;5;241m2\u001b[39m: \u001b[38;5;28;01mreturn\u001b[39;00m \u001b[38;5;241m1.5\u001b[39m\n\u001b[1;32m    197\u001b[0m \u001b[38;5;66;03m# best = np.log2(count)\u001b[39;00m\n\u001b[0;32m--> 198\u001b[0m row \u001b[38;5;241m=\u001b[39m \u001b[43mpolicy\u001b[49m\u001b[43m(\u001b[49m\u001b[43mmatrix\u001b[49m\u001b[43m,\u001b[49m\u001b[43mindex\u001b[49m\u001b[43m,\u001b[49m\u001b[38;5;241;43m*\u001b[39;49m\u001b[38;5;241;43m*\u001b[39;49m\u001b[43mkways\u001b[49m\u001b[43m)\u001b[49m\n\u001b[1;32m    200\u001b[0m tmp \u001b[38;5;241m=\u001b[39m matrix[row]\n\u001b[1;32m    201\u001b[0m unq,counts \u001b[38;5;241m=\u001b[39m np\u001b[38;5;241m.\u001b[39munique(tmp,return_counts\u001b[38;5;241m=\u001b[39m\u001b[38;5;28;01mTrue\u001b[39;00m)\n",
      "File \u001b[0;32m~/Desktop/LC/wordle/functions.py:659\u001b[0m, in \u001b[0;36mpolicy_modelQ_rep\u001b[0;34m(matrix, index, model, words_embed, top, eps)\u001b[0m\n\u001b[1;32m    657\u001b[0m \u001b[38;5;28;01mfor\u001b[39;00m row \u001b[38;5;129;01min\u001b[39;00m \u001b[38;5;28mrange\u001b[39m(\u001b[38;5;241m12953\u001b[39m):\n\u001b[1;32m    658\u001b[0m     tmp \u001b[38;5;241m=\u001b[39m matrix[row]\n\u001b[0;32m--> 659\u001b[0m     unq,counts \u001b[38;5;241m=\u001b[39m \u001b[43mnp\u001b[49m\u001b[38;5;241;43m.\u001b[39;49m\u001b[43munique\u001b[49m\u001b[43m(\u001b[49m\u001b[43mtmp\u001b[49m\u001b[43m,\u001b[49m\u001b[43mreturn_counts\u001b[49m\u001b[38;5;241;43m=\u001b[39;49m\u001b[38;5;28;43;01mTrue\u001b[39;49;00m\u001b[43m)\u001b[49m\n\u001b[1;32m    660\u001b[0m     ps \u001b[38;5;241m=\u001b[39m counts\u001b[38;5;241m/\u001b[39mcount\n\u001b[1;32m    661\u001b[0m     entro \u001b[38;5;241m=\u001b[39m entropy(ps)\n",
      "File \u001b[0;32m<__array_function__ internals>:5\u001b[0m, in \u001b[0;36munique\u001b[0;34m(*args, **kwargs)\u001b[0m\n",
      "File \u001b[0;32m~/anaconda3/lib/python3.8/site-packages/numpy/lib/arraysetops.py:272\u001b[0m, in \u001b[0;36munique\u001b[0;34m(ar, return_index, return_inverse, return_counts, axis)\u001b[0m\n\u001b[1;32m    270\u001b[0m ar \u001b[38;5;241m=\u001b[39m np\u001b[38;5;241m.\u001b[39masanyarray(ar)\n\u001b[1;32m    271\u001b[0m \u001b[38;5;28;01mif\u001b[39;00m axis \u001b[38;5;129;01mis\u001b[39;00m \u001b[38;5;28;01mNone\u001b[39;00m:\n\u001b[0;32m--> 272\u001b[0m     ret \u001b[38;5;241m=\u001b[39m \u001b[43m_unique1d\u001b[49m\u001b[43m(\u001b[49m\u001b[43mar\u001b[49m\u001b[43m,\u001b[49m\u001b[43m \u001b[49m\u001b[43mreturn_index\u001b[49m\u001b[43m,\u001b[49m\u001b[43m \u001b[49m\u001b[43mreturn_inverse\u001b[49m\u001b[43m,\u001b[49m\u001b[43m \u001b[49m\u001b[43mreturn_counts\u001b[49m\u001b[43m)\u001b[49m\n\u001b[1;32m    273\u001b[0m     \u001b[38;5;28;01mreturn\u001b[39;00m _unpack_tuple(ret)\n\u001b[1;32m    275\u001b[0m \u001b[38;5;66;03m# axis was specified and not None\u001b[39;00m\n",
      "File \u001b[0;32m~/anaconda3/lib/python3.8/site-packages/numpy/lib/arraysetops.py:325\u001b[0m, in \u001b[0;36m_unique1d\u001b[0;34m(ar, return_index, return_inverse, return_counts)\u001b[0m\n\u001b[1;32m    320\u001b[0m \u001b[38;5;28;01mdef\u001b[39;00m \u001b[38;5;21m_unique1d\u001b[39m(ar, return_index\u001b[38;5;241m=\u001b[39m\u001b[38;5;28;01mFalse\u001b[39;00m, return_inverse\u001b[38;5;241m=\u001b[39m\u001b[38;5;28;01mFalse\u001b[39;00m,\n\u001b[1;32m    321\u001b[0m               return_counts\u001b[38;5;241m=\u001b[39m\u001b[38;5;28;01mFalse\u001b[39;00m):\n\u001b[1;32m    322\u001b[0m     \u001b[38;5;124;03m\"\"\"\u001b[39;00m\n\u001b[1;32m    323\u001b[0m \u001b[38;5;124;03m    Find the unique elements of an array, ignoring shape.\u001b[39;00m\n\u001b[1;32m    324\u001b[0m \u001b[38;5;124;03m    \"\"\"\u001b[39;00m\n\u001b[0;32m--> 325\u001b[0m     ar \u001b[38;5;241m=\u001b[39m \u001b[43mnp\u001b[49m\u001b[38;5;241;43m.\u001b[39;49m\u001b[43masanyarray\u001b[49m\u001b[43m(\u001b[49m\u001b[43mar\u001b[49m\u001b[43m)\u001b[49m\u001b[38;5;241;43m.\u001b[39;49m\u001b[43mflatten\u001b[49m\u001b[43m(\u001b[49m\u001b[43m)\u001b[49m\n\u001b[1;32m    327\u001b[0m     optional_indices \u001b[38;5;241m=\u001b[39m return_index \u001b[38;5;129;01mor\u001b[39;00m return_inverse\n\u001b[1;32m    329\u001b[0m     \u001b[38;5;28;01mif\u001b[39;00m optional_indices:\n",
      "\u001b[0;31mKeyboardInterrupt\u001b[0m: "
     ]
    }
   ],
   "source": [
    "# model trained from start\n",
    "lr = 6e-5\n",
    "clip = 0.03\n",
    "epochs = 3\n",
    "damp = 1\n",
    "iterations = 30\n",
    "max_data = 2000\n",
    "states = set()\n",
    "opt = Adam(model.parameters(),betas=(0.85, 0.95),lr=lr)\n",
    "best_score = 100\n",
    "for i in range(iterations):\n",
    "    # policy evaluation\n",
    "    model.eval()\n",
    "    score = evaluate_saveQ(matrix,np.arange(2309),policy_modelQ_rep,2309,0,model=model,words_embed=words_embed,\n",
    "                           top=0.6,eps=0.02/(i+1))\n",
    "    print('iter:{}, score:{}'.format(i,score))\n",
    "    if score < best_score:\n",
    "        best_score = score\n",
    "        best_weight = copy.deepcopy(model.state_dict()) \n",
    "    # prepare data for training\n",
    "    index,val,log_prob,action,entro = zip(*out)\n",
    "    for element in index:\n",
    "        states.add(tuple(element))\n",
    "    print('set size:{}'.format(len(states)))\n",
    "    prob = np.array(log_prob)\n",
    "    prob -= prob.mean()\n",
    "    prob = np.exp(prob/damp)\n",
    "    prob = torch.tensor(prob,dtype=torch.float32,device='cuda')\n",
    "    length = torch.tensor([len(i) for i in index],device='cuda').to(torch.long)\n",
    "    words = torch.tensor(words_embed[np.concatenate(index)]).long().to('cuda')\n",
    "    entro = torch.tensor(entro,dtype=torch.float32,device='cuda')\n",
    "    ys = torch.tensor(val,dtype=torch.float32,device='cuda')\n",
    "    action_rep = []\n",
    "    for ids_,a_ in zip(index,action):\n",
    "        for id_ in ids_:\n",
    "            action_rep.append(matrix[a_,id_])\n",
    "    action_rep = torch.tensor(np.array(action_rep),device='cuda').long()\n",
    "    \n",
    "    # policy update\n",
    "    model.train()\n",
    "    loss_int,counter_ = 1000,0\n",
    "    tmpWeight = copy.deepcopy(model.state_dict())   \n",
    "    while counter_ < epochs:\n",
    "        yhat = model((words,length,action_rep,entro))\n",
    "        loss = torch.sum(prob*(ys-yhat)**2)/torch.sum(prob)\n",
    "        print('loss:{}'.format(loss.item()))\n",
    "        if loss.item() > loss_int + 0.1:\n",
    "            model.load_state_dict(tmpWeight)\n",
    "            for g in opt.param_groups:\n",
    "                g['lr'] = g['lr']/1.5\n",
    "        else:\n",
    "            loss_int = loss.item()\n",
    "            counter_ += 1\n",
    "            tmpWeight = copy.deepcopy(model.state_dict())\n",
    "            loss.backward()\n",
    "            clip_grad_value_(model.parameters(),clip)\n",
    "            opt.step()\n",
    "            opt.zero_grad()\n",
    "    for g in opt.param_groups:\n",
    "        g['lr'] = lr\n",
    "    #print(model.w)\n",
    "    while len(out)>max_data:\n",
    "        out.pop(0)\n",
    "model.load_state_dict(best_weight)"
   ]
  },
  {
   "cell_type": "code",
   "execution_count": null,
   "id": "03ed62b9",
   "metadata": {},
   "outputs": [],
   "source": []
  },
  {
   "cell_type": "code",
   "execution_count": 5,
   "id": "6a748fc0",
   "metadata": {},
   "outputs": [],
   "source": [
    "torch.save(model.state_dict(), 'RL_Q0.pt')"
   ]
  },
  {
   "cell_type": "code",
   "execution_count": 5,
   "id": "a1c9a72a",
   "metadata": {},
   "outputs": [
    {
     "data": {
      "text/plain": [
       "3.8739714161974894"
      ]
     },
     "execution_count": 5,
     "metadata": {},
     "output_type": "execute_result"
    }
   ],
   "source": [
    "evaluate(matrix,np.arange(2309),policy_modelQ_rep,2309,model=model,words_embed=words_embed,top=0.6,\n",
    "                         eps=0)"
   ]
  },
  {
   "cell_type": "code",
   "execution_count": null,
   "id": "6ce7225f",
   "metadata": {},
   "outputs": [],
   "source": []
  },
  {
   "cell_type": "code",
   "execution_count": null,
   "id": "37b5be05",
   "metadata": {},
   "outputs": [],
   "source": []
  },
  {
   "cell_type": "code",
   "execution_count": null,
   "id": "24fadf0a",
   "metadata": {},
   "outputs": [],
   "source": []
  }
 ],
 "metadata": {
  "kernelspec": {
   "display_name": "Python 3 (ipykernel)",
   "language": "python",
   "name": "python3"
  },
  "language_info": {
   "codemirror_mode": {
    "name": "ipython",
    "version": 3
   },
   "file_extension": ".py",
   "mimetype": "text/x-python",
   "name": "python",
   "nbconvert_exporter": "python",
   "pygments_lexer": "ipython3",
   "version": "3.8.10"
  }
 },
 "nbformat": 4,
 "nbformat_minor": 5
}
