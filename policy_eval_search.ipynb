{
 "cells": [
  {
   "cell_type": "code",
   "execution_count": 1,
   "id": "4365dfc2",
   "metadata": {},
   "outputs": [],
   "source": [
    "from functions import *\n",
    "from torch.optim import Adam\n",
    "from functions_pt import *"
   ]
  },
  {
   "cell_type": "code",
   "execution_count": 2,
   "id": "d3d034f1",
   "metadata": {},
   "outputs": [],
   "source": [
    "embed_size = 128\n",
    "dropout = 0.1\n",
    "multiple_factor = 1\n",
    "layers = 2\n",
    "batch_size = 64\n",
    "agg = 'mean' # mean,sum,min,max\n",
    "model = pointNet(layers,embed_size,agg,dropout,multiple_factor)#.to('cuda')\n",
    "model.load_state_dict(torch.load('RL0.pt'))\n",
    "model.eval()\n",
    "model = model.to('cuda')"
   ]
  },
  {
   "cell_type": "code",
   "execution_count": 2,
   "id": "c1a04240",
   "metadata": {},
   "outputs": [],
   "source": [
    "words_embed = np.load('possible_words_embed.npy')"
   ]
  },
  {
   "cell_type": "code",
   "execution_count": null,
   "id": "fe453d84",
   "metadata": {},
   "outputs": [],
   "source": []
  },
  {
   "cell_type": "code",
   "execution_count": 4,
   "id": "5fa767b9",
   "metadata": {},
   "outputs": [
    {
     "data": {
      "text/plain": [
       "3.4222607189259433"
      ]
     },
     "execution_count": 4,
     "metadata": {},
     "output_type": "execute_result"
    }
   ],
   "source": [
    "# search on top of NN model\n",
    "evaluate_search_save(matrix,np.arange(2309),policy_model_topK,2309,\\\n",
    "                     model=model,words_embed=words_embed,top=0.6,k=5)"
   ]
  },
  {
   "cell_type": "code",
   "execution_count": 3,
   "id": "370cc7ab",
   "metadata": {},
   "outputs": [],
   "source": [
    "with open('/home/will/Desktop/LC/wordle/policy_map_top10.pkl', 'wb') as f:\n",
    "    pickle.dump(policy_map,f)"
   ]
  },
  {
   "cell_type": "code",
   "execution_count": null,
   "id": "5da00f64",
   "metadata": {},
   "outputs": [],
   "source": []
  },
  {
   "cell_type": "code",
   "execution_count": 2,
   "id": "e89b7032",
   "metadata": {
    "scrolled": true
   },
   "outputs": [
    {
     "data": {
      "text/plain": [
       "3.423559982676486"
      ]
     },
     "execution_count": 2,
     "metadata": {},
     "output_type": "execute_result"
    }
   ],
   "source": [
    "# search top 5 entropy actions\n",
    "evaluate_search_save(matrix,np.arange(2309),policy_entropy_best_topK,2309,k=5)"
   ]
  },
  {
   "cell_type": "code",
   "execution_count": 2,
   "id": "c6ccee9f",
   "metadata": {},
   "outputs": [
    {
     "data": {
      "text/plain": [
       "3.42139454309225"
      ]
     },
     "execution_count": 2,
     "metadata": {},
     "output_type": "execute_result"
    }
   ],
   "source": [
    "# search top 10 entropy actions\n",
    "evaluate_search_save(matrix,np.arange(2309),policy_entropy_best_topK,2309,k=10)"
   ]
  },
  {
   "cell_type": "code",
   "execution_count": null,
   "id": "7f094f2d",
   "metadata": {},
   "outputs": [],
   "source": []
  },
  {
   "cell_type": "code",
   "execution_count": 10,
   "id": "e0954569",
   "metadata": {},
   "outputs": [
    {
     "data": {
      "text/plain": [
       "3.437418796015592"
      ]
     },
     "execution_count": 10,
     "metadata": {},
     "output_type": "execute_result"
    }
   ],
   "source": [
    "# NN model policy\n",
    "evaluate(matrix,np.arange(2309),policy_model,2309,model=model,words_embed=words_embed,top=0.6,\n",
    "                         eps=0)"
   ]
  },
  {
   "cell_type": "code",
   "execution_count": null,
   "id": "dbcebd9a",
   "metadata": {},
   "outputs": [],
   "source": []
  },
  {
   "cell_type": "code",
   "execution_count": 1,
   "id": "0e13d47f",
   "metadata": {},
   "outputs": [],
   "source": [
    "from show import *"
   ]
  },
  {
   "cell_type": "code",
   "execution_count": 11,
   "id": "013aa4aa",
   "metadata": {},
   "outputs": [],
   "source": [
    "g = wordle_game(np.arange(2309),matrix)"
   ]
  },
  {
   "cell_type": "code",
   "execution_count": 12,
   "id": "4adf2921",
   "metadata": {},
   "outputs": [
    {
     "data": {
      "text/plain": [
       "'salet'"
      ]
     },
     "execution_count": 12,
     "metadata": {},
     "output_type": "execute_result"
    }
   ],
   "source": [
    "g.get_action()"
   ]
  },
  {
   "cell_type": "code",
   "execution_count": 13,
   "id": "16d59a1d",
   "metadata": {},
   "outputs": [
    {
     "data": {
      "text/plain": [
       "('drone', 163)"
      ]
     },
     "execution_count": 13,
     "metadata": {},
     "output_type": "execute_result"
    }
   ],
   "source": [
    "g.update_color('bbbyb'),len(g.s)"
   ]
  },
  {
   "cell_type": "code",
   "execution_count": 14,
   "id": "543cb4bd",
   "metadata": {},
   "outputs": [
    {
     "data": {
      "text/plain": [
       "('beech', 6)"
      ]
     },
     "execution_count": 14,
     "metadata": {},
     "output_type": "execute_result"
    }
   ],
   "source": [
    "g.update_color('bbbby'),len(g.s)"
   ]
  },
  {
   "cell_type": "code",
   "execution_count": null,
   "id": "ea0c21af",
   "metadata": {},
   "outputs": [],
   "source": []
  }
 ],
 "metadata": {
  "kernelspec": {
   "display_name": "Python 3 (ipykernel)",
   "language": "python",
   "name": "python3"
  },
  "language_info": {
   "codemirror_mode": {
    "name": "ipython",
    "version": 3
   },
   "file_extension": ".py",
   "mimetype": "text/x-python",
   "name": "python",
   "nbconvert_exporter": "python",
   "pygments_lexer": "ipython3",
   "version": "3.8.10"
  }
 },
 "nbformat": 4,
 "nbformat_minor": 5
}
