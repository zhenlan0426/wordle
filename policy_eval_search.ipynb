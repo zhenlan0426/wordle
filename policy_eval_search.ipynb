{
 "cells": [
  {
   "cell_type": "code",
   "execution_count": 1,
   "id": "4365dfc2",
   "metadata": {},
   "outputs": [],
   "source": [
    "from functions import *\n",
    "from torch.optim import Adam\n",
    "from functions_pt import *"
   ]
  },
  {
   "cell_type": "code",
   "execution_count": 2,
   "id": "d3d034f1",
   "metadata": {},
   "outputs": [],
   "source": [
    "embed_size = 128\n",
    "dropout = 0.1\n",
    "multiple_factor = 1\n",
    "layers = 2\n",
    "batch_size = 64\n",
    "agg = 'mean' # mean,sum,min,max\n",
    "model = pointNet(layers,embed_size,agg,dropout,multiple_factor)#.to('cuda')\n",
    "model.load_state_dict(torch.load('RL0.pt'))\n",
    "model.eval()\n",
    "model = model.to('cuda')"
   ]
  },
  {
   "cell_type": "code",
   "execution_count": 3,
   "id": "c1a04240",
   "metadata": {},
   "outputs": [],
   "source": [
    "words_embed = np.load('possible_words_embed.npy')"
   ]
  },
  {
   "cell_type": "code",
   "execution_count": null,
   "id": "fe453d84",
   "metadata": {},
   "outputs": [],
   "source": []
  },
  {
   "cell_type": "code",
   "execution_count": 4,
   "id": "5fa767b9",
   "metadata": {},
   "outputs": [
    {
     "data": {
      "text/plain": [
       "3.4222607189259433"
      ]
     },
     "execution_count": 4,
     "metadata": {},
     "output_type": "execute_result"
    }
   ],
   "source": [
    "evaluate_search_save(matrix,np.arange(2309),policy_model_topK,2309,\\\n",
    "                     model=model,words_embed=words_embed,top=0.6,k=5)"
   ]
  },
  {
   "cell_type": "code",
   "execution_count": 6,
   "id": "370cc7ab",
   "metadata": {},
   "outputs": [],
   "source": [
    "with open('/home/will/Desktop/LC/wordle/policy_map.pkl', 'wb') as f:\n",
    "    pickle.dump(policy_map,f)"
   ]
  },
  {
   "cell_type": "code",
   "execution_count": null,
   "id": "51b0fc1c",
   "metadata": {},
   "outputs": [],
   "source": []
  },
  {
   "cell_type": "code",
   "execution_count": 10,
   "id": "e0954569",
   "metadata": {},
   "outputs": [
    {
     "data": {
      "text/plain": [
       "3.437418796015592"
      ]
     },
     "execution_count": 10,
     "metadata": {},
     "output_type": "execute_result"
    }
   ],
   "source": [
    "evaluate(matrix,np.arange(2309),policy_model,2309,model=model,words_embed=words_embed,top=0.6,\n",
    "                         eps=0)"
   ]
  },
  {
   "cell_type": "code",
   "execution_count": null,
   "id": "dbcebd9a",
   "metadata": {},
   "outputs": [],
   "source": []
  },
  {
   "cell_type": "code",
   "execution_count": 9,
   "id": "6e5e7bda",
   "metadata": {},
   "outputs": [],
   "source": [
    "with open('/home/will/Desktop/LC/wordle/allowed_words_dict.pkl', 'rb') as f:\n",
    "    allowed_words_dict = pickle.load(f)\n",
    "\n",
    "with open('/home/will/Desktop/LC/wordle/possible_words_dict.pkl', 'rb') as f:\n",
    "    possible_words_dict = pickle.load(f)"
   ]
  },
  {
   "cell_type": "code",
   "execution_count": 81,
   "id": "1fde22c8",
   "metadata": {},
   "outputs": [],
   "source": [
    "color_dict = {'b':0,'y':1,'g':2}\n",
    "def c2num(color):\n",
    "    sum_,prod_ = 0,1\n",
    "    for c in color:\n",
    "        sum_ += color_dict[c] * prod_\n",
    "        prod_ *= 3\n",
    "    return sum_\n",
    "\n",
    "\n",
    "class wordle_game():\n",
    "    def __init__(self,s,matrix):\n",
    "        self.s0 = s\n",
    "        self.s = s\n",
    "        self.matrix0 = matrix\n",
    "        self.matrix = matrix\n",
    "        \n",
    "    def reset(self):\n",
    "        self.s = self.s0\n",
    "        self.matrix = self.matrix0\n",
    "        \n",
    "    def get_action_num(self):\n",
    "        return policy_map[tuple(self.s)][0]\n",
    "    \n",
    "    def get_action(self):\n",
    "        return allowed_words_dict[self.get_action_num()]\n",
    "    \n",
    "    def update_color(self,color):\n",
    "        color = c2num(color)\n",
    "        tmp = self.matrix[self.get_action_num()]\n",
    "        tmp2 = tmp == color\n",
    "        self.s = self.s[tmp2]\n",
    "        self.matrix = self.matrix[:,tmp2]\n",
    "        if len(self.s)>2:\n",
    "            return self.get_action()\n",
    "        return [possible_words_dict[i] for i in self.s]"
   ]
  },
  {
   "cell_type": "code",
   "execution_count": 124,
   "id": "013aa4aa",
   "metadata": {},
   "outputs": [],
   "source": [
    "g = wordle_game(np.arange(2309),matrix)"
   ]
  },
  {
   "cell_type": "code",
   "execution_count": 125,
   "id": "4adf2921",
   "metadata": {},
   "outputs": [
    {
     "data": {
      "text/plain": [
       "'reast'"
      ]
     },
     "execution_count": 125,
     "metadata": {},
     "output_type": "execute_result"
    }
   ],
   "source": [
    "g.get_action()"
   ]
  },
  {
   "cell_type": "code",
   "execution_count": 126,
   "id": "16d59a1d",
   "metadata": {},
   "outputs": [
    {
     "data": {
      "text/plain": [
       "('bagel', 42)"
      ]
     },
     "execution_count": 126,
     "metadata": {},
     "output_type": "execute_result"
    }
   ],
   "source": [
    "g.update_color('yyybb'),len(g.s)"
   ]
  },
  {
   "cell_type": "code",
   "execution_count": 127,
   "id": "543cb4bd",
   "metadata": {},
   "outputs": [
    {
     "data": {
      "text/plain": [
       "('frock', 11)"
      ]
     },
     "execution_count": 127,
     "metadata": {},
     "output_type": "execute_result"
    }
   ],
   "source": [
    "g.update_color('bybyb'),len(g.s)"
   ]
  },
  {
   "cell_type": "code",
   "execution_count": null,
   "id": "ea0c21af",
   "metadata": {},
   "outputs": [],
   "source": []
  }
 ],
 "metadata": {
  "kernelspec": {
   "display_name": "Python 3 (ipykernel)",
   "language": "python",
   "name": "python3"
  },
  "language_info": {
   "codemirror_mode": {
    "name": "ipython",
    "version": 3
   },
   "file_extension": ".py",
   "mimetype": "text/x-python",
   "name": "python",
   "nbconvert_exporter": "python",
   "pygments_lexer": "ipython3",
   "version": "3.8.10"
  }
 },
 "nbformat": 4,
 "nbformat_minor": 5
}
