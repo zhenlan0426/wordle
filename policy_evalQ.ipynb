{
 "cells": [
  {
   "cell_type": "code",
   "execution_count": 1,
   "id": "4365dfc2",
   "metadata": {},
   "outputs": [],
   "source": [
    "from functions import *\n",
    "from torch.optim import Adam\n",
    "from functions_pt import *"
   ]
  },
  {
   "cell_type": "code",
   "execution_count": 2,
   "id": "d3d034f1",
   "metadata": {},
   "outputs": [],
   "source": [
    "embed_size = 64\n",
    "dropout = 0.1\n",
    "multiple_factor = 1\n",
    "layers = 4\n",
    "batch_size = 64\n",
    "concat = True\n",
    "agg = 'mean' # mean,sum,min,max\n",
    "model = pointNetQ(layers,embed_size,agg,dropout,multiple_factor,concat)#.to('cuda')\n",
    "#model.load_state_dict(torch.load('baseline_noBN.pt'))\n",
    "#model.eval()\n",
    "model = model.to('cuda')"
   ]
  },
  {
   "cell_type": "code",
   "execution_count": 3,
   "id": "c1a04240",
   "metadata": {},
   "outputs": [],
   "source": [
    "words_embed = np.load('possible_words_embed.npy')\n",
    "allowed_words_embed = np.load('allowed_words_embed.npy')"
   ]
  },
  {
   "cell_type": "code",
   "execution_count": null,
   "id": "6043844d",
   "metadata": {},
   "outputs": [],
   "source": []
  },
  {
   "cell_type": "markdown",
   "id": "6673db7f",
   "metadata": {},
   "source": [
    "RL Loop"
   ]
  },
  {
   "cell_type": "code",
   "execution_count": null,
   "id": "aabe764a",
   "metadata": {},
   "outputs": [
    {
     "name": "stdout",
     "output_type": "stream",
     "text": [
      "iter:0, score:3.7717626678215703\n",
      "set size:421\n",
      "loss:2.2254791259765625\n",
      "loss:2.1844828128814697\n",
      "loss:1.9852381944656372\n",
      "iter:1, score:3.792117799913384\n",
      "set size:835\n",
      "loss:1.8369802236557007\n",
      "loss:1.4951525926589966\n",
      "loss:1.2510122060775757\n",
      "iter:2, score:3.7553053269813788\n",
      "set size:1232\n",
      "loss:1.2899497747421265\n",
      "loss:0.8646899461746216\n",
      "loss:0.6360717415809631\n",
      "iter:3, score:3.779558250324816\n",
      "set size:1640\n",
      "loss:0.5028873682022095\n",
      "loss:0.43472540378570557\n",
      "loss:0.3668586015701294\n",
      "iter:4, score:3.777825898657428\n",
      "set size:2042\n",
      "loss:0.3637322783470154\n",
      "loss:0.6587222218513489\n",
      "loss:0.36804118752479553\n",
      "loss:0.3786114454269409\n",
      "iter:5, score:3.7566045907319205\n",
      "set size:2407\n",
      "loss:0.37180978059768677\n",
      "loss:0.4154185354709625\n",
      "loss:0.6259401440620422\n",
      "loss:0.37562495470046997\n",
      "iter:6, score:3.8142052836725884\n",
      "set size:2802\n",
      "loss:0.5898191928863525\n",
      "loss:0.5825686454772949\n",
      "loss:0.5436686277389526\n"
     ]
    }
   ],
   "source": [
    "# model trained from start\n",
    "lr = 6e-5\n",
    "clip = 0.03\n",
    "epochs = 3\n",
    "damp = 1\n",
    "iterations = 30\n",
    "max_data = 2000\n",
    "states = set()\n",
    "opt = Adam(model.parameters(),betas=(0.85, 0.95),lr=lr)\n",
    "best_score = 100\n",
    "for i in range(iterations):\n",
    "    # policy evaluation\n",
    "    model.eval()\n",
    "    score = evaluate_saveQ(matrix,np.arange(2309),policy_modelQ,2309,0,model=model,words_embed=words_embed,\n",
    "                           allowed_words_embed=allowed_words_embed,top=0.6,eps=0.08/(i+1))\n",
    "    print('iter:{}, score:{}'.format(i,score))\n",
    "    if score < best_score:\n",
    "        best_score = score\n",
    "        best_weight = copy.deepcopy(model.state_dict()) \n",
    "    # prepare data for training\n",
    "    index,val,log_prob,action,entro = zip(*out)\n",
    "    for element in index:\n",
    "        states.add(tuple(element))\n",
    "    print('set size:{}'.format(len(states)))\n",
    "    prob = np.array(log_prob)\n",
    "    prob -= prob.mean()\n",
    "    prob = np.exp(prob/damp)\n",
    "    prob = torch.tensor(prob,dtype=torch.float32,device='cuda')\n",
    "    length = torch.tensor([len(i) for i in index],device='cuda').to(torch.long)\n",
    "    words = torch.tensor(words_embed[np.concatenate(index)]).long().to('cuda')\n",
    "    entro = torch.tensor(entro,dtype=torch.float32,device='cuda')\n",
    "    ys = torch.tensor(val,dtype=torch.float32,device='cuda')\n",
    "    actions_tch = torch.tensor(allowed_words_embed[np.array(action)],device='cuda').long()\n",
    "    \n",
    "    # policy update\n",
    "    model.train()\n",
    "    loss_int,counter_ = 1000,0\n",
    "    tmpWeight = copy.deepcopy(model.state_dict())   \n",
    "    while counter_ < epochs:\n",
    "        yhat = model((words,length,actions_tch,entro))\n",
    "        loss = torch.sum(prob*(ys-yhat)**2)/torch.sum(prob)\n",
    "        print('loss:{}'.format(loss.item()))\n",
    "        if loss.item() > loss_int + 0.1:\n",
    "            model.load_state_dict(tmpWeight)\n",
    "            for g in opt.param_groups:\n",
    "                g['lr'] = g['lr']/1.5\n",
    "        else:\n",
    "            loss_int = loss.item()\n",
    "            counter_ += 1\n",
    "            tmpWeight = copy.deepcopy(model.state_dict())\n",
    "            loss.backward()\n",
    "            clip_grad_value_(model.parameters(),clip)\n",
    "            opt.step()\n",
    "            opt.zero_grad()\n",
    "    for g in opt.param_groups:\n",
    "        g['lr'] = lr\n",
    "    #print(model.w)\n",
    "    while len(out)>max_data:\n",
    "        out.pop(0)\n",
    "model.load_state_dict(best_weight)"
   ]
  },
  {
   "cell_type": "code",
   "execution_count": null,
   "id": "42e5ada1",
   "metadata": {},
   "outputs": [],
   "source": []
  },
  {
   "cell_type": "code",
   "execution_count": 5,
   "id": "6a748fc0",
   "metadata": {},
   "outputs": [],
   "source": [
    "torch.save(model.state_dict(), 'RL_Q0.pt')"
   ]
  },
  {
   "cell_type": "code",
   "execution_count": 6,
   "id": "a1c9a72a",
   "metadata": {},
   "outputs": [
    {
     "data": {
      "text/plain": [
       "3.437418796015592"
      ]
     },
     "execution_count": 6,
     "metadata": {},
     "output_type": "execute_result"
    }
   ],
   "source": [
    "evaluate(matrix,np.arange(2309),policy_model,2309,model=model,words_embed=words_embed,top=0.6,\n",
    "                         eps=0)"
   ]
  },
  {
   "cell_type": "code",
   "execution_count": null,
   "id": "6ce7225f",
   "metadata": {},
   "outputs": [],
   "source": []
  },
  {
   "cell_type": "code",
   "execution_count": null,
   "id": "7cd39373",
   "metadata": {},
   "outputs": [],
   "source": []
  },
  {
   "cell_type": "code",
   "execution_count": null,
   "id": "5f064d85",
   "metadata": {},
   "outputs": [],
   "source": []
  }
 ],
 "metadata": {
  "kernelspec": {
   "display_name": "Python 3 (ipykernel)",
   "language": "python",
   "name": "python3"
  },
  "language_info": {
   "codemirror_mode": {
    "name": "ipython",
    "version": 3
   },
   "file_extension": ".py",
   "mimetype": "text/x-python",
   "name": "python",
   "nbconvert_exporter": "python",
   "pygments_lexer": "ipython3",
   "version": "3.8.10"
  }
 },
 "nbformat": 4,
 "nbformat_minor": 5
}
